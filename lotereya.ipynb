{
 "cells": [
  {
   "cell_type": "markdown",
   "metadata": {},
   "source": [
    "Смоделировать игру против лотерейного автомата типа “777”. Игрок платит 1 руб., после чего выпадает случайное целое число, равномерно распределенное от 0 до 999. При некоторых значениях числа игрок получает выигрыш\n",
    "Сколько в среднем приобретает\n",
    "или теряет игрок за одну игру?\n",
    "\n",
    "777: 200 руб.\n",
    "999: 100 руб.\n",
    "555: 50 руб.\n",
    "333: 15 руб.\n",
    "111: 10 руб.\n",
    "*77: 5 руб.\n",
    "**7: 3 руб.\n",
    "*00: 2 руб.\n",
    "**0: 1 руб."
   ]
  },
  {
   "cell_type": "code",
   "execution_count": 1,
   "metadata": {},
   "outputs": [],
   "source": [
    "import numpy as np\n",
    "import random\n",
    "from numpy.random import choice"
   ]
  },
  {
   "cell_type": "code",
   "execution_count": 34,
   "metadata": {},
   "outputs": [],
   "source": [
    "regex1 ='[1-6,8,9]77'\n",
    "regex2 ='\\d[0-6,8,9]7'\n",
    "regex3 = '[1-6,8,9]7'\n",
    "regex4 ='\\d+00'\n",
    "regex5 ='[1-9]{2}0'\n",
    "regex6 = '[1-9]0'"
   ]
  },
  {
   "cell_type": "code",
   "execution_count": 3,
   "metadata": {},
   "outputs": [],
   "source": [
    "import re"
   ]
  },
  {
   "cell_type": "code",
   "execution_count": 56,
   "metadata": {},
   "outputs": [
    {
     "name": "stdout",
     "output_type": "stream",
     "text": [
      "Вероятность равна = 0.798\n"
     ]
    }
   ],
   "source": [
    "attempts = 1000    # Количество попыток\n",
    "successes = 0    # Количество успехов\n",
    "\n",
    "for i in range(attempts):\n",
    "    random_score = np.random.randint(0, 1000)    # Случайное количество очков от 0 до 1000\n",
    "    if random_score == 777:\n",
    "        successes += 200\n",
    "    elif random_score == 999:\n",
    "        successes += 100\n",
    "    elif random_score == 555:\n",
    "        successes += 50\n",
    "    elif random_score == 333:\n",
    "        successes += 15\n",
    "    elif random_score == 111:\n",
    "        successes += 10\n",
    "    elif re.match(regex1, str(random_score)) or random_score == 77:\n",
    "        successes += 5\n",
    "    elif re.match(regex2, str(random_score)) or (re.match(regex3, str(random_score)) and len(str(random_score)) == 2) or random_score == 7:\n",
    "        successes += 3\n",
    "    elif re.match(regex4, str(random_score)) or random_score == 0:\n",
    "        successes += 2\n",
    "    elif re.match(regex5, str(random_score)) or (re.match(regex6, str(random_score)) and len(str(random_score)) == 2):\n",
    "        successes += 1\n",
    "    else :\n",
    "        successes += 0\n",
    "\n",
    "        \n",
    "p_monte_carlo = successes / attempts\n",
    "print('Вероятность равна =', p_monte_carlo)"
   ]
  },
  {
   "cell_type": "code",
   "execution_count": 15,
   "metadata": {},
   "outputs": [],
   "source": [
    "list_ = np.arange(0, 1000)"
   ]
  },
  {
   "cell_type": "code",
   "execution_count": 74,
   "metadata": {},
   "outputs": [
    {
     "name": "stdout",
     "output_type": "stream",
     "text": [
      "8\n",
      "81\n",
      "8\n",
      "9\n",
      "81\n",
      "9\n"
     ]
    }
   ],
   "source": [
    "a = re.findall(regex1, str(list_))\n",
    "print(len(a))\n",
    "\n",
    "b = re.findall(regex2, str(list_))\n",
    "print(len(b))\n",
    "\n",
    "c = [17, 27, 37, 47, 57, 67, 87, 97]\n",
    "print(len(c))\n",
    "\n",
    "d = re.findall(regex4, str(list_))\n",
    "print(len(d))\n",
    "\n",
    "e = re.findall(regex5, str(list_))\n",
    "print(len(e))\n",
    "\n",
    "f = [10, 20, 30, 40, 50, 60, 70, 80, 90]\n",
    "print(len(f))"
   ]
  },
  {
   "cell_type": "code",
   "execution_count": 75,
   "metadata": {},
   "outputs": [
    {
     "name": "stdout",
     "output_type": "stream",
     "text": [
      "0.8\n"
     ]
    }
   ],
   "source": [
    "gain = 200 + 100 + 50 + 15 + 10 + (len(a) + 1)*5 + (len(b) + len(c) + 1)*3 + (len(d) + 1)*2 + len(e) + len(f)\n",
    "probability = gain / attempts\n",
    "print(probability)"
   ]
  },
  {
   "cell_type": "code",
   "execution_count": 65,
   "metadata": {},
   "outputs": [
    {
     "name": "stdout",
     "output_type": "stream",
     "text": [
      "0.8\n"
     ]
    }
   ],
   "source": [
    "#вместо регулярки можно использовать комбинаторику\n",
    "A = 9*1*1  #на первом месте может быть цифра (0-6, 8, 9), на втором и третьем только семерки\n",
    "\n",
    "B = 10*9*1 #на первом месте может быть любая цифра, на втором - все, кроме 7 и на третьем только 7\n",
    "\n",
    "C = 10*1*1 #на первом месте может быть любая цифра, на втором и третьем только 0\n",
    "\n",
    "D = 10*9*1 #на первом месте может быть любая цифра, на втором - все, кроме 0 и на третьем только 0\n",
    "\n",
    "gain2 = 200 + 100 + 50 + 15 + 10 + A*5 + B*3 + C*2 + D*1\n",
    "\n",
    "probability2 = gain2 / attempts\n",
    "print(probability2)"
   ]
  },
  {
   "cell_type": "markdown",
   "metadata": {},
   "source": [
    "Итог, игра проигрышная, т.е. на каждый рубль, выигрываешь 0,8 руб. или, другими словами, теряешь 0,2 руб."
   ]
  },
  {
   "cell_type": "code",
   "execution_count": null,
   "metadata": {},
   "outputs": [],
   "source": []
  },
  {
   "cell_type": "code",
   "execution_count": null,
   "metadata": {},
   "outputs": [],
   "source": []
  }
 ],
 "metadata": {
  "kernelspec": {
   "display_name": "Python 3",
   "language": "python",
   "name": "python3"
  },
  "language_info": {
   "codemirror_mode": {
    "name": "ipython",
    "version": 3
   },
   "file_extension": ".py",
   "mimetype": "text/x-python",
   "name": "python",
   "nbconvert_exporter": "python",
   "pygments_lexer": "ipython3",
   "version": "3.7.6"
  }
 },
 "nbformat": 4,
 "nbformat_minor": 4
}
